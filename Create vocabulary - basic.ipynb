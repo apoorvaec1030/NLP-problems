{
 "cells": [
  {
   "cell_type": "code",
   "execution_count": 7,
   "metadata": {},
   "outputs": [
    {
     "data": {
      "text/plain": [
       "'\\n1. read file. Use read(){reads entire file, for smaller corpus}, readline(){reads one line at a time and returns a string}, \\nreadlines(){reads entire corpus and returns one line at a time in a list format} based on the file size or application\\n2a. convert to lowercase \\n2b. remove punctuations\\n3. separate each word\\n4. create a set\\n5. also create word freq counter\\n'"
      ]
     },
     "execution_count": 7,
     "metadata": {},
     "output_type": "execute_result"
    }
   ],
   "source": [
    "\"\"\"\n",
    "1. read file. Use read(){reads entire file, for smaller corpus}, readline(){reads one line at a time and returns a string}, \n",
    "readlines(){reads entire corpus and returns one line at a time in a list format} based on the file size or application\n",
    "2a. convert to lowercase \n",
    "2b. remove punctuations\n",
    "3. separate each word\n",
    "4. create a set\n",
    "5. also create word freq counter\n",
    "\"\"\""
   ]
  },
  {
   "cell_type": "code",
   "execution_count": 27,
   "metadata": {},
   "outputs": [],
   "source": [
    "import string, collections as c"
   ]
  },
  {
   "cell_type": "code",
   "execution_count": 16,
   "metadata": {},
   "outputs": [],
   "source": [
    "file = open('stringoftext.txt','r')\n",
    "corpus= file.read()"
   ]
  },
  {
   "cell_type": "code",
   "execution_count": 51,
   "metadata": {},
   "outputs": [
    {
     "data": {
      "text/plain": [
       "'!\"#$%&\\'()*+,-./:;<=>?@[\\\\]^_`{|}~'"
      ]
     },
     "execution_count": 51,
     "metadata": {},
     "output_type": "execute_result"
    }
   ],
   "source": [
    "exclude = string.punctuation\n",
    "exclude"
   ]
  },
  {
   "cell_type": "code",
   "execution_count": 52,
   "metadata": {},
   "outputs": [
    {
     "data": {
      "text/plain": [
       "'an american economy globalization is a very pressing issue in the american culture today within any economy globalization will cause many problems while at the same nirma time solving many surma others this is true because there are many factors involved with globalization one of the most important being job outsourcing while at first glance and from what the media reports job outsourcing is definitely not healthy for the economy however on upon closer inspection the reverse may be true job outsourcing karma surma nirma'"
      ]
     },
     "execution_count": 52,
     "metadata": {},
     "output_type": "execute_result"
    }
   ],
   "source": [
    "def preprocessing(corpus,exclude):\n",
    "    #convert to lower\n",
    "    corpus = corpus.lower()\n",
    "    \n",
    "    #remove punctuations except .,\n",
    "    table = [str.maketrans(i,\" \") for i in exclude]\n",
    "    corpusTrans = corpus.translate(table)\n",
    "    \n",
    "    #remove all punctuations\n",
    "    for i in exclude:\n",
    "        corpus = corpus.replace(i,\"\")\n",
    "    \n",
    "    return corpus, corpusTrans\n",
    "\n",
    "corpus, corpusTrans = preprocessing(corpus,exclude)\n",
    "corpus"
   ]
  },
  {
   "cell_type": "code",
   "execution_count": 53,
   "metadata": {},
   "outputs": [],
   "source": [
    "def stringSplit(corpus):\n",
    "    return corpus.split(\" \"), set(corpus.split(\" \"))\n",
    "all_words, vocab = stringSplit(corpus)"
   ]
  },
  {
   "cell_type": "code",
   "execution_count": 54,
   "metadata": {},
   "outputs": [
    {
     "data": {
      "text/plain": [
       "{'a',\n",
       " 'american',\n",
       " 'an',\n",
       " 'and',\n",
       " 'any',\n",
       " 'are',\n",
       " 'at',\n",
       " 'be',\n",
       " 'because',\n",
       " 'being',\n",
       " 'cause',\n",
       " 'closer',\n",
       " 'culture',\n",
       " 'definitely',\n",
       " 'economy',\n",
       " 'factors',\n",
       " 'first',\n",
       " 'for',\n",
       " 'from',\n",
       " 'glance',\n",
       " 'globalization',\n",
       " 'healthy',\n",
       " 'however',\n",
       " 'important',\n",
       " 'in',\n",
       " 'inspection',\n",
       " 'involved',\n",
       " 'is',\n",
       " 'issue',\n",
       " 'job',\n",
       " 'karma',\n",
       " 'many',\n",
       " 'may',\n",
       " 'media',\n",
       " 'most',\n",
       " 'nirma',\n",
       " 'not',\n",
       " 'of',\n",
       " 'on',\n",
       " 'one',\n",
       " 'others',\n",
       " 'outsourcing',\n",
       " 'pressing',\n",
       " 'problems',\n",
       " 'reports',\n",
       " 'reverse',\n",
       " 'same',\n",
       " 'solving',\n",
       " 'surma',\n",
       " 'the',\n",
       " 'there',\n",
       " 'this',\n",
       " 'time',\n",
       " 'today',\n",
       " 'true',\n",
       " 'upon',\n",
       " 'very',\n",
       " 'what',\n",
       " 'while',\n",
       " 'will',\n",
       " 'with',\n",
       " 'within'}"
      ]
     },
     "execution_count": 54,
     "metadata": {},
     "output_type": "execute_result"
    }
   ],
   "source": [
    "vocab"
   ]
  },
  {
   "cell_type": "code",
   "execution_count": 55,
   "metadata": {},
   "outputs": [
    {
     "data": {
      "text/plain": [
       "{'the': 6,\n",
       " 'economy': 3,\n",
       " 'globalization': 3,\n",
       " 'is': 3,\n",
       " 'many': 3,\n",
       " 'job': 3,\n",
       " 'outsourcing': 3,\n",
       " 'american': 2,\n",
       " 'while': 2,\n",
       " 'at': 2,\n",
       " 'nirma': 2,\n",
       " 'surma': 2,\n",
       " 'true': 2,\n",
       " 'an': 1,\n",
       " 'a': 1,\n",
       " 'very': 1,\n",
       " 'pressing': 1,\n",
       " 'issue': 1,\n",
       " 'in': 1,\n",
       " 'culture': 1,\n",
       " 'today': 1,\n",
       " 'within': 1,\n",
       " 'any': 1,\n",
       " 'will': 1,\n",
       " 'cause': 1,\n",
       " 'problems': 1,\n",
       " 'same': 1,\n",
       " 'time': 1,\n",
       " 'solving': 1,\n",
       " 'others': 1,\n",
       " 'this': 1,\n",
       " 'because': 1,\n",
       " 'there': 1,\n",
       " 'are': 1,\n",
       " 'factors': 1,\n",
       " 'involved': 1,\n",
       " 'with': 1,\n",
       " 'one': 1,\n",
       " 'of': 1,\n",
       " 'most': 1,\n",
       " 'important': 1,\n",
       " 'being': 1,\n",
       " 'first': 1,\n",
       " 'glance': 1,\n",
       " 'and': 1,\n",
       " 'from': 1,\n",
       " 'what': 1,\n",
       " 'media': 1,\n",
       " 'reports': 1,\n",
       " 'definitely': 1,\n",
       " 'not': 1,\n",
       " 'healthy': 1,\n",
       " 'for': 1,\n",
       " 'however': 1,\n",
       " 'on': 1,\n",
       " 'upon': 1,\n",
       " 'closer': 1,\n",
       " 'inspection': 1,\n",
       " 'reverse': 1,\n",
       " 'may': 1,\n",
       " 'be': 1,\n",
       " 'karma': 1}"
      ]
     },
     "execution_count": 55,
     "metadata": {},
     "output_type": "execute_result"
    }
   ],
   "source": [
    "def wordCounter(all_words):\n",
    "    s= c.Counter(string_split)\n",
    "    return dict(sorted(s.items(), key=lambda s:s[1],reverse=True))\n",
    "wordCounter(all_words)"
   ]
  },
  {
   "cell_type": "code",
   "execution_count": null,
   "metadata": {},
   "outputs": [],
   "source": []
  }
 ],
 "metadata": {
  "kernelspec": {
   "display_name": "Python 3",
   "language": "python",
   "name": "python3"
  },
  "language_info": {
   "codemirror_mode": {
    "name": "ipython",
    "version": 3
   },
   "file_extension": ".py",
   "mimetype": "text/x-python",
   "name": "python",
   "nbconvert_exporter": "python",
   "pygments_lexer": "ipython3",
   "version": "3.7.4"
  }
 },
 "nbformat": 4,
 "nbformat_minor": 2
}
