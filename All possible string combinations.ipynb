{
 "cells": [
  {
   "cell_type": "markdown",
   "metadata": {},
   "source": [
    "\"\"\"\n",
    "CREATE ALL POSSIBLE STRINGS:\n",
    "\n",
    "4 types of string edit operations:\n",
    "\n",
    "1. split\n",
    "2. delete\n",
    "3. switch\n",
    "4. insert\n",
    "\"\"\""
   ]
  },
  {
   "cell_type": "code",
   "execution_count": 100,
   "metadata": {},
   "outputs": [],
   "source": [
    "import numpy as np"
   ]
  },
  {
   "cell_type": "code",
   "execution_count": 101,
   "metadata": {},
   "outputs": [],
   "source": [
    "word = 'Apo0orva'\n",
    "word = word.lower()\n"
   ]
  },
  {
   "cell_type": "code",
   "execution_count": 102,
   "metadata": {},
   "outputs": [
    {
     "name": "stdout",
     "output_type": "stream",
     "text": [
      "1.43 µs ± 26.8 ns per loop (mean ± std. dev. of 7 runs, 1000000 loops each)\n",
      "423 ns ± 7.61 ns per loop (mean ± std. dev. of 7 runs, 1000000 loops each)\n"
     ]
    }
   ],
   "source": [
    "#split\n",
    "\n",
    "output = [(word[:i],word[i:]) for i in range(len(word))]# if len(word[i:])>1]\n",
    "\n",
    "#flatten + concise output\n",
    "%timeit [tup for tupl in output for tup in tupl if len(tup)>1]\n",
    "%timeit list(sum(output,()))"
   ]
  },
  {
   "cell_type": "code",
   "execution_count": 103,
   "metadata": {},
   "outputs": [
    {
     "data": {
      "text/plain": [
       "['po0orva',\n",
       " 'ao0orva',\n",
       " 'ap0orva',\n",
       " 'apoorva',\n",
       " 'apo0rva',\n",
       " 'apo0ova',\n",
       " 'apo0ora',\n",
       " 'apo0orv']"
      ]
     },
     "execution_count": 103,
     "metadata": {},
     "output_type": "execute_result"
    }
   ],
   "source": [
    "#delete\n",
    "\n",
    "#omit one letter\n",
    "[(word[:i]+word[i+1:]) for i in range(len(word))]\n"
   ]
  },
  {
   "cell_type": "code",
   "execution_count": 108,
   "metadata": {},
   "outputs": [
    {
     "name": "stdout",
     "output_type": "stream",
     "text": [
      "{'aop0orva', 'pao0orva', 'apo0orav', 'apo0ovra', 'apoo0rva', 'ap0oorva', 'apo0rova'}\n"
     ]
    }
   ],
   "source": [
    "#switch\n",
    "\n",
    "output = set([word[:i]+word[i+1]+word[i]+word[i+2:] for i in range(len(word)) if len(word)>=(i+2)])\n",
    "try:\n",
    "    output.remove(word)\n",
    "except:\n",
    "    print(output)"
   ]
  },
  {
   "cell_type": "code",
   "execution_count": 109,
   "metadata": {},
   "outputs": [
    {
     "name": "stdout",
     "output_type": "stream",
     "text": [
      "{'aspo0orva', 'apo0oxrva', 'apno0orva', 'apoh0orva', 'apo0sorva', 'apo0rorva', 'apo0norva', 'abpo0orva', 'aypo0orva', 'apbo0orva', 'apjo0orva', 'apo0oruva', 'apo0torva', 'japo0orva', 'apo0orvba', 'uapo0orva', 'apo0vorva', 'apo0orvqa', 'aopo0orva', 'napo0orva', 'xapo0orva', 'apoy0orva', 'apo0ordva', 'apro0orva', 'apo0corva', 'apo0orvua', 'apo0orqva', 'apo0dorva', 'apo0ovrva', 'apo0okrva', 'apoa0orva', 'apo0oreva', 'apo0osrva', 'apo0ourva', 'apo0oqrva', 'apo0orvwa', 'apoe0orva', 'tapo0orva', 'rapo0orva', 'apio0orva', 'apo0aorva', 'lapo0orva', 'apo0oorva', 'apo0orsva', 'avpo0orva', 'apo0orvga', 'apo0onrva', 'capo0orva', 'apot0orva', 'apo0orvsa', 'apo0orjva', 'apo0oryva', 'apom0orva', 'apo0ornva', 'apfo0orva', 'apon0orva', 'apco0orva', 'anpo0orva', 'apo0orvoa', 'apo0orbva', 'apol0orva', 'apo0orvza', 'apo0qorva', 'apxo0orva', 'apo0iorva', 'apo0korva', 'apo0zorva', 'aupo0orva', 'apo0ojrva', 'apao0orva', 'atpo0orva', 'apo0orova', 'vapo0orva', 'apoc0orva', 'ampo0orva', 'apo0orpva', 'apo0ozrva', 'apo0yorva', 'apo0ortva', 'apoj0orva', 'apo0oerva', 'apo0orlva', 'apog0orva', 'apox0orva', 'ajpo0orva', 'apoz0orva', 'apov0orva', 'afpo0orva', 'apo0morva', 'apo0orxva', 'apeo0orva', 'yapo0orva', 'dapo0orva', 'apo0orvda', 'aipo0orva', 'eapo0orva', 'axpo0orva', 'apo0orvva', 'apqo0orva', 'apo0otrva', 'apo0oirva', 'aepo0orva', 'apzo0orva', 'azpo0orva', 'apo0ofrva', 'apo0ogrva', 'aplo0orva', 'apo0horva', 'apo0ormva', 'apo0orvaa', 'apow0orva', 'bapo0orva', 'oapo0orva', 'apo0orvxa', 'apo0orvya', 'apvo0orva', 'apo0orava', 'mapo0orva', 'apo0oriva', 'ahpo0orva', 'apo0orwva', 'apo0orvfa', 'apo0orvka', 'apo0orvra', 'apo0obrva', 'apo0jorva', 'aqpo0orva', 'apoi0orva', 'apo0worva', 'apgo0orva', 'agpo0orva', 'apo0orzva', 'apo0orhva', 'apo0orvta', 'apo0orvma', 'aapo0orva', 'apo0orvna', 'apwo0orva', 'apko0orva', 'apo0oprva', 'fapo0orva', 'apyo0orva', 'apo0gorva', 'apmo0orva', 'gapo0orva', 'apo0oarva', 'arpo0orva', 'apo0orgva', 'apou0orva', 'apo0orvpa', 'apo0orkva', 'apop0orva', 'apso0orva', 'apo0uorva', 'apuo0orva', 'apo0lorva', 'apo0orvla', 'apoo0orva', 'apof0orva', 'apo0omrva', 'apho0orva', 'apo0porva', 'zapo0orva', 'apo0odrva', 'kapo0orva', 'awpo0orva', 'apo0forva', 'hapo0orva', 'iapo0orva', 'apoq0orva', 'apo0eorva', 'apo0orvja', 'apdo0orva', 'apo0borva', 'apo0orvea', 'apob0orva', 'apo0ohrva', 'apo0orvca', 'wapo0orva', 'apo0orvha', 'apo0orfva', 'papo0orva', 'apo0orvia', 'sapo0orva', 'apo0ocrva', 'apor0orva', 'akpo0orva', 'appo0orva', 'apo0olrva', 'acpo0orva', 'apo0owrva', 'alpo0orva', 'apod0orva', 'apo0orrva', 'apo0oyrva', 'adpo0orva', 'apto0orva', 'apos0orva', 'apo0orcva', 'apok0orva', 'qapo0orva', 'apo0xorva'}\n"
     ]
    }
   ],
   "source": [
    "#insert\n",
    "#split -> insert -> add back\n",
    "\n",
    "letter = 'abcdefghijklmnopqrstuvwxyz'\n",
    "\n",
    "\n",
    "print(set([(word[:i]+l+word[i:]) for i in range(len(word)) for l in letter]))\n"
   ]
  },
  {
   "cell_type": "code",
   "execution_count": null,
   "metadata": {},
   "outputs": [],
   "source": []
  }
 ],
 "metadata": {
  "kernelspec": {
   "display_name": "Python 3",
   "language": "python",
   "name": "python3"
  },
  "language_info": {
   "codemirror_mode": {
    "name": "ipython",
    "version": 3
   },
   "file_extension": ".py",
   "mimetype": "text/x-python",
   "name": "python",
   "nbconvert_exporter": "python",
   "pygments_lexer": "ipython3",
   "version": "3.7.4"
  }
 },
 "nbformat": 4,
 "nbformat_minor": 2
}
