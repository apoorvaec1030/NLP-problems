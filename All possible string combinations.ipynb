{
 "cells": [
  {
   "cell_type": "markdown",
   "metadata": {},
   "source": [
    "\"\"\"\n",
    "CREATE ALL POSSIBLE STRINGS:\n",
    "\n",
    "4 types of string edit operations:\n",
    "\n",
    "1. split\n",
    "2. delete\n",
    "3. switch\n",
    "4. insert\n",
    "\"\"\""
   ]
  },
  {
   "cell_type": "code",
   "execution_count": 92,
   "metadata": {},
   "outputs": [],
   "source": [
    "import numpy as np"
   ]
  },
  {
   "cell_type": "code",
   "execution_count": 93,
   "metadata": {},
   "outputs": [],
   "source": [
    "word = 'Apoorva'\n",
    "word = word.lower()\n"
   ]
  },
  {
   "cell_type": "code",
   "execution_count": null,
   "metadata": {},
   "outputs": [
    {
     "name": "stdout",
     "output_type": "stream",
     "text": [
      "1.33 µs ± 30.5 ns per loop (mean ± std. dev. of 7 runs, 1000000 loops each)\n"
     ]
    }
   ],
   "source": [
    "#split\n",
    "\n",
    "output = [(word[:i],word[i:]) for i in range(len(word))]# if len(word[i:])>1]\n",
    "\n",
    "#flatten + concise output\n",
    "%timeit [tup for tupl in output for tup in tupl if len(tup)>1]\n",
    "%timeit list(sum(output,()))"
   ]
  },
  {
   "cell_type": "code",
   "execution_count": null,
   "metadata": {},
   "outputs": [],
   "source": [
    "#delete\n",
    "\n",
    "#omit one letter\n",
    "[(word[:i]+word[i+1:]) for i in range(len(word))]\n"
   ]
  },
  {
   "cell_type": "code",
   "execution_count": null,
   "metadata": {},
   "outputs": [],
   "source": [
    "#switch\n",
    "\n",
    "output = set([word[:i]+word[i+1]+word[i]+word[i+2:] for i in range(len(word)) if len(word)>=(i+2)])\n",
    "output.remove(word)\n"
   ]
  },
  {
   "cell_type": "code",
   "execution_count": null,
   "metadata": {},
   "outputs": [],
   "source": [
    "#insert\n",
    "#split -> insert -> add back\n",
    "\n",
    "letter = 'abcdefghijklmnopqrstuvwxyz'\n",
    "\n",
    "\n",
    "set([(word[:i]+l+word[i:]) for i in range(len(word)) for l in letter])\n"
   ]
  }
 ],
 "metadata": {
  "kernelspec": {
   "display_name": "Python 3",
   "language": "python",
   "name": "python3"
  },
  "language_info": {
   "codemirror_mode": {
    "name": "ipython",
    "version": 3
   },
   "file_extension": ".py",
   "mimetype": "text/x-python",
   "name": "python",
   "nbconvert_exporter": "python",
   "pygments_lexer": "ipython3",
   "version": "3.7.4"
  }
 },
 "nbformat": 4,
 "nbformat_minor": 2
}
