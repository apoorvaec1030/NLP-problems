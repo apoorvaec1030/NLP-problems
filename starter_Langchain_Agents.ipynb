{
  "nbformat": 4,
  "nbformat_minor": 0,
  "metadata": {
    "colab": {
      "provenance": [],
      "authorship_tag": "ABX9TyMrMwJjj0FQerRviRbCffD5",
      "include_colab_link": true
    },
    "kernelspec": {
      "name": "python3",
      "display_name": "Python 3"
    },
    "language_info": {
      "name": "python"
    }
  },
  "cells": [
    {
      "cell_type": "markdown",
      "metadata": {
        "id": "view-in-github",
        "colab_type": "text"
      },
      "source": [
        "<a href=\"https://colab.research.google.com/github/apoorvaec1030/NLP-problems/blob/main/starter_Langchain_Agents.ipynb\" target=\"_parent\"><img src=\"https://colab.research.google.com/assets/colab-badge.svg\" alt=\"Open In Colab\"/></a>"
      ]
    },
    {
      "cell_type": "markdown",
      "source": [
        "# **LangChain: Agents**\n",
        "\n",
        "## Outline:\n",
        "\n",
        "* Using built in LangChain tools: DuckDuckGo search and Wikipedia\n",
        "* Defining your own tools"
      ],
      "metadata": {
        "id": "N2L0EyEm5IRy"
      }
    },
    {
      "cell_type": "markdown",
      "source": [
        "**SetUp**"
      ],
      "metadata": {
        "id": "HMzkjNTV5SoF"
      }
    },
    {
      "cell_type": "code",
      "execution_count": null,
      "metadata": {
        "id": "Ki1rhX2x5Hah"
      },
      "outputs": [],
      "source": [
        "!pip install openai==0.27.7\n",
        "!pip install python-dotenv==1.0.0\n",
        "!pip install langchain==0.0.179"
      ]
    },
    {
      "cell_type": "code",
      "source": [
        "from google.colab import userdata\n",
        "import os\n",
        "import openai\n",
        "\n",
        "openai.api_key = userdata.get('OPENAI_API_KEY')\n",
        "os.environ['OPENAI_API_KEY'] = openai.api_key"
      ],
      "metadata": {
        "id": "sNfjlW-M5UQx"
      },
      "execution_count": 2,
      "outputs": []
    },
    {
      "cell_type": "code",
      "source": [
        "import warnings\n",
        "warnings.filterwarnings('ignore')"
      ],
      "metadata": {
        "id": "vKnuyaqa5ZgD"
      },
      "execution_count": 3,
      "outputs": []
    },
    {
      "cell_type": "code",
      "source": [
        "# account for deprecation of LLM model\n",
        "import datetime\n",
        "# Get the current date\n",
        "current_date = datetime.datetime.now().date()\n",
        "\n",
        "# Define the date after which the model should be set to \"gpt-3.5-turbo\"\n",
        "target_date = datetime.date(2024, 6, 12)\n",
        "\n",
        "# Set the model variable based on the current date\n",
        "if current_date > target_date:\n",
        "    llm_model = \"gpt-3.5-turbo\"\n",
        "else:\n",
        "    llm_model = \"gpt-3.5-turbo-0301\""
      ],
      "metadata": {
        "id": "CItClhTn5jGb"
      },
      "execution_count": 4,
      "outputs": []
    },
    {
      "cell_type": "markdown",
      "source": [
        "**Built-in Langchain tools**"
      ],
      "metadata": {
        "id": "ZRDcyS5x5w-Z"
      }
    },
    {
      "cell_type": "code",
      "source": [
        "!pip install -U wikipedia"
      ],
      "metadata": {
        "id": "tFjy_DWz5jif"
      },
      "execution_count": null,
      "outputs": []
    },
    {
      "cell_type": "code",
      "source": [
        "from langchain.agents.agent_toolkits import create_python_agent\n",
        "from langchain.agents import load_tools, initialize_agent\n",
        "from langchain.agents import AgentType\n",
        "from langchain.tools.python.tool import PythonREPLTool\n",
        "from langchain.python import PythonREPL\n",
        "from langchain.chat_models import ChatOpenAI"
      ],
      "metadata": {
        "id": "kcnMuzTa5nZf"
      },
      "execution_count": 6,
      "outputs": []
    },
    {
      "cell_type": "code",
      "source": [
        "llm = ChatOpenAI(temperature=0, model=llm_model)"
      ],
      "metadata": {
        "id": "LG6-2m8P50DW"
      },
      "execution_count": 7,
      "outputs": []
    },
    {
      "cell_type": "code",
      "source": [
        "tools = load_tools([\"llm-math\",\"wikipedia\"], llm=llm)"
      ],
      "metadata": {
        "id": "5TrZV3WY54sc"
      },
      "execution_count": 8,
      "outputs": []
    },
    {
      "cell_type": "code",
      "source": [
        "agent= initialize_agent(\n",
        "    tools,\n",
        "    llm,\n",
        "    agent=AgentType.CHAT_ZERO_SHOT_REACT_DESCRIPTION,\n",
        "    handle_parsing_errors=True, #errors are passed back to the llm to correct itself\n",
        "    verbose = True)"
      ],
      "metadata": {
        "id": "uMikVH5j58sM"
      },
      "execution_count": 11,
      "outputs": []
    },
    {
      "cell_type": "code",
      "source": [
        "agent(\"What is the 25% of 300?\")"
      ],
      "metadata": {
        "colab": {
          "base_uri": "https://localhost:8080/"
        },
        "id": "cibytsuO64V0",
        "outputId": "3ab1ae76-4259-4df1-fe4e-e46d189d3d63"
      },
      "execution_count": 12,
      "outputs": [
        {
          "output_type": "stream",
          "name": "stdout",
          "text": [
            "\n",
            "\n",
            "\u001b[1m> Entering new AgentExecutor chain...\u001b[0m\n",
            "\u001b[32;1m\u001b[1;3mThought: We need to calculate 25% of 300, which means we need to multiply 300 by 0.25.\n",
            "\n",
            "Action:\n",
            "```\n",
            "{\n",
            "  \"action\": \"Calculator\",\n",
            "  \"action_input\": \"300*0.25\"\n",
            "}\n",
            "```\n",
            "\n",
            "\u001b[0m\n",
            "Observation: \u001b[36;1m\u001b[1;3mAnswer: 75.0\u001b[0m\n",
            "Thought:\u001b[32;1m\u001b[1;3mWe have the answer to the question.\n",
            "\n",
            "Final Answer: 75.0\u001b[0m\n",
            "\n",
            "\u001b[1m> Finished chain.\u001b[0m\n"
          ]
        },
        {
          "output_type": "execute_result",
          "data": {
            "text/plain": [
              "{'input': 'What is the 25% of 300?', 'output': '75.0'}"
            ]
          },
          "metadata": {},
          "execution_count": 12
        }
      ]
    },
    {
      "cell_type": "markdown",
      "source": [
        "**Wikipedia example**"
      ],
      "metadata": {
        "id": "rZvvp_Il7N2r"
      }
    },
    {
      "cell_type": "code",
      "source": [
        "question = \"Tom M. Mitchell is an American computer scientist \\\n",
        "and the Founders University Professor at Carnegie Mellon University (CMU)\\\n",
        "what book did he write?\"\n",
        "result = agent(question)"
      ],
      "metadata": {
        "id": "YOPBcwE468hH"
      },
      "execution_count": null,
      "outputs": []
    },
    {
      "cell_type": "markdown",
      "source": [
        "**Python Agent**"
      ],
      "metadata": {
        "id": "9Ju5jz-m73Ez"
      }
    },
    {
      "cell_type": "code",
      "source": [
        "agent = create_python_agent(\n",
        "    llm,\n",
        "    tool=PythonREPLTool(),\n",
        "    verbose=True\n",
        ")"
      ],
      "metadata": {
        "id": "rLJDTz4l7hyy"
      },
      "execution_count": 14,
      "outputs": []
    },
    {
      "cell_type": "code",
      "source": [
        "customer_list = [[\"Harrison\", \"Chase\"],\n",
        "                 [\"Lang\", \"Chain\"],\n",
        "                 [\"Dolly\", \"Too\"],\n",
        "                 [\"Elle\", \"Elem\"],\n",
        "                 [\"Geoff\",\"Fusion\"],\n",
        "                 [\"Trance\",\"Former\"],\n",
        "                 [\"Jen\",\"Ayai\"]\n",
        "                ]"
      ],
      "metadata": {
        "id": "Gln069X678Tr"
      },
      "execution_count": 15,
      "outputs": []
    },
    {
      "cell_type": "code",
      "source": [
        "agent.run(f\"\"\"Sort these customers by \\\n",
        "last name and then first name \\\n",
        "and print the output: {customer_list}\"\"\")"
      ],
      "metadata": {
        "colab": {
          "base_uri": "https://localhost:8080/",
          "height": 484
        },
        "id": "_4qahfMU7-nU",
        "outputId": "513223a0-34d6-4007-911d-b6fb8f34dd2d"
      },
      "execution_count": 16,
      "outputs": [
        {
          "output_type": "stream",
          "name": "stdout",
          "text": [
            "\n",
            "\n",
            "\u001b[1m> Entering new AgentExecutor chain...\u001b[0m\n",
            "\u001b[32;1m\u001b[1;3mI can use the sorted() function to sort the list of customers by last name and then first name. I will need to provide a key function to sorted() that returns a tuple of the last name and first name in that order.\n",
            "Action: Python REPL\n",
            "Action Input:\n",
            "```\n",
            "customers = [['Harrison', 'Chase'], ['Lang', 'Chain'], ['Dolly', 'Too'], ['Elle', 'Elem'], ['Geoff', 'Fusion'], ['Trance', 'Former'], ['Jen', 'Ayai']]\n",
            "sorted_customers = sorted(customers, key=lambda x: (x[1], x[0]))\n",
            "for customer in sorted_customers:\n",
            "    print(customer)\n",
            "```\u001b[0m\n",
            "Observation: \u001b[36;1m\u001b[1;3m['Jen', 'Ayai']\n",
            "['Lang', 'Chain']\n",
            "['Harrison', 'Chase']\n",
            "['Elle', 'Elem']\n",
            "['Trance', 'Former']\n",
            "['Geoff', 'Fusion']\n",
            "['Dolly', 'Too']\n",
            "\u001b[0m\n",
            "Thought:\u001b[32;1m\u001b[1;3mThe customers are now sorted by last name and then first name. \n",
            "Final Answer: [['Jen', 'Ayai'], ['Lang', 'Chain'], ['Harrison', 'Chase'], ['Elle', 'Elem'], ['Trance', 'Former'], ['Geoff', 'Fusion'], ['Dolly', 'Too']]\u001b[0m\n",
            "\n",
            "\u001b[1m> Finished chain.\u001b[0m\n"
          ]
        },
        {
          "output_type": "execute_result",
          "data": {
            "text/plain": [
              "\"[['Jen', 'Ayai'], ['Lang', 'Chain'], ['Harrison', 'Chase'], ['Elle', 'Elem'], ['Trance', 'Former'], ['Geoff', 'Fusion'], ['Dolly', 'Too']]\""
            ],
            "application/vnd.google.colaboratory.intrinsic+json": {
              "type": "string"
            }
          },
          "metadata": {},
          "execution_count": 16
        }
      ]
    },
    {
      "cell_type": "markdown",
      "source": [
        "**View detailed outputs of the chains**"
      ],
      "metadata": {
        "id": "4H-uM7i18Lgt"
      }
    },
    {
      "cell_type": "code",
      "source": [
        "import langchain\n",
        "langchain.debug=True\n",
        "agent.run(f\"\"\"Sort these customers by \\\n",
        "last name and then first name \\\n",
        "and print the output: {customer_list}\"\"\")\n",
        "langchain.debug=False"
      ],
      "metadata": {
        "id": "lquSN2Ni8BWU"
      },
      "execution_count": null,
      "outputs": []
    },
    {
      "cell_type": "code",
      "source": [
        "!pip install DateTime"
      ],
      "metadata": {
        "id": "Qp7zCVjJ8j67"
      },
      "execution_count": null,
      "outputs": []
    },
    {
      "cell_type": "code",
      "source": [
        "from langchain.agents import tool\n",
        "from datetime import date"
      ],
      "metadata": {
        "id": "ncT5Quq083Nc"
      },
      "execution_count": 19,
      "outputs": []
    },
    {
      "cell_type": "code",
      "source": [
        "@tool #tool decorator, it can be applied to any function which can be used as a tool\n",
        "def time(text: str) -> str: #detailed docstring is used by agent to know when/how to call the tool\n",
        "    \"\"\"Returns todays date, use this for any \\\n",
        "    questions related to knowing todays date. \\\n",
        "    The input should always be an empty string, \\\n",
        "    and this function will always return todays \\\n",
        "    date - any date mathmatics should occur \\\n",
        "    outside this function.\"\"\"\n",
        "    return str(date.today())"
      ],
      "metadata": {
        "id": "XGSv5swg89qI"
      },
      "execution_count": 20,
      "outputs": []
    },
    {
      "cell_type": "code",
      "source": [
        "agent= initialize_agent(\n",
        "    tools + [time],\n",
        "    llm,\n",
        "    agent=AgentType.CHAT_ZERO_SHOT_REACT_DESCRIPTION,\n",
        "    handle_parsing_errors=True,\n",
        "    verbose = True)"
      ],
      "metadata": {
        "id": "jRO-6yT_9AbP"
      },
      "execution_count": 21,
      "outputs": []
    },
    {
      "cell_type": "code",
      "source": [
        "try:\n",
        "    result = agent(\"whats the date today?\")\n",
        "except:\n",
        "    print(\"exception on external access\")"
      ],
      "metadata": {
        "colab": {
          "base_uri": "https://localhost:8080/"
        },
        "id": "2gycSUUI9Cuz",
        "outputId": "e9ad29ae-b098-454c-f159-3bc6bbb62868"
      },
      "execution_count": 22,
      "outputs": [
        {
          "output_type": "stream",
          "name": "stdout",
          "text": [
            "\n",
            "\n",
            "\u001b[1m> Entering new AgentExecutor chain...\u001b[0m\n",
            "\u001b[32;1m\u001b[1;3mThought: I need to use the `time` tool to get today's date.\n",
            "Action:\n",
            "```\n",
            "{\n",
            "  \"action\": \"time\",\n",
            "  \"action_input\": \"\"\n",
            "}\n",
            "```\n",
            "\u001b[0m\n",
            "Observation: \u001b[38;5;200m\u001b[1;3m2024-03-01\u001b[0m\n",
            "Thought:\u001b[32;1m\u001b[1;3mI have successfully retrieved today's date using the `time` tool.\n",
            "Final Answer: Today's date is 2024-03-01.\u001b[0m\n",
            "\n",
            "\u001b[1m> Finished chain.\u001b[0m\n"
          ]
        }
      ]
    },
    {
      "cell_type": "code",
      "source": [],
      "metadata": {
        "id": "ZYdp6Ybs9FoQ"
      },
      "execution_count": null,
      "outputs": []
    }
  ]
}