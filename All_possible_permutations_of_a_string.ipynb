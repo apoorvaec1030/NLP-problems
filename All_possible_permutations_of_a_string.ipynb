{
  "nbformat": 4,
  "nbformat_minor": 0,
  "metadata": {
    "colab": {
      "provenance": [],
      "authorship_tag": "ABX9TyOf9ehIpyk1nTysOK0Xtlyk",
      "include_colab_link": true
    },
    "kernelspec": {
      "name": "python3",
      "display_name": "Python 3"
    },
    "language_info": {
      "name": "python"
    }
  },
  "cells": [
    {
      "cell_type": "markdown",
      "metadata": {
        "id": "view-in-github",
        "colab_type": "text"
      },
      "source": [
        "<a href=\"https://colab.research.google.com/github/apoorvaec1030/nlp-problems/blob/main/All_possible_permutations_of_a_string.ipynb\" target=\"_parent\"><img src=\"https://colab.research.google.com/assets/colab-badge.svg\" alt=\"Open In Colab\"/></a>"
      ]
    },
    {
      "cell_type": "markdown",
      "source": [
        "\n",
        "1. split and get the last letter\n",
        "2. pick the second last letter\n",
        "3. place it on either side of the last letter and save in a var\n",
        "4. pick the last letter from split\n",
        "5. place on each gap before, after and between each letter and keep saving in var\n",
        "6. go recursively until the split [0] is empty\n",
        "7. return the var\n"
      ],
      "metadata": {
        "id": "HPRB3ffffGag"
      }
    },
    {
      "cell_type": "code",
      "source": [
        "def permutation(string):\n",
        "\n",
        "  letters = list(string)\n",
        "\n",
        "  if len(letters)>1:\n",
        "\n",
        "    init=letters[:-1]\n",
        "    var=[letters[-1]]\n",
        "\n",
        "    while len(init)>0:\n",
        "      var3=[]\n",
        "      for elem in var:\n",
        "        for i in range(0,len(elem)+1):\n",
        "            var2 = elem[:i]+init[-1]+elem[i:]\n",
        "            var3.append(var2)\n",
        "      var=var3\n",
        "      init=init[:-1]\n",
        "    return set(var)\n",
        "  else:\n",
        "    return letters\n",
        "\n",
        "permutation('sag2')\n"
      ],
      "metadata": {
        "colab": {
          "base_uri": "https://localhost:8080/"
        },
        "id": "AVkFtkF0e-QK",
        "outputId": "4d9790f6-7eb0-4994-a1b0-0d066caf93af"
      },
      "execution_count": 43,
      "outputs": [
        {
          "output_type": "execute_result",
          "data": {
            "text/plain": [
              "{'2ags',\n",
              " '2asg',\n",
              " '2gas',\n",
              " '2gsa',\n",
              " '2sag',\n",
              " '2sga',\n",
              " 'a2gs',\n",
              " 'a2sg',\n",
              " 'ag2s',\n",
              " 'ags2',\n",
              " 'as2g',\n",
              " 'asg2',\n",
              " 'g2as',\n",
              " 'g2sa',\n",
              " 'ga2s',\n",
              " 'gas2',\n",
              " 'gs2a',\n",
              " 'gsa2',\n",
              " 's2ag',\n",
              " 's2ga',\n",
              " 'sa2g',\n",
              " 'sag2',\n",
              " 'sg2a',\n",
              " 'sga2'}"
            ]
          },
          "metadata": {},
          "execution_count": 43
        }
      ]
    },
    {
      "cell_type": "code",
      "source": [],
      "metadata": {
        "id": "nhaF7HDWt3g0"
      },
      "execution_count": null,
      "outputs": []
    }
  ]
}