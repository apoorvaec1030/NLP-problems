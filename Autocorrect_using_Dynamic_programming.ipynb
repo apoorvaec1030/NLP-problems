{
 "cells": [
  {
   "cell_type": "markdown",
   "metadata": {},
   "source": [
    "## Minimum Edit Distance using Dynamic Programming"
   ]
  },
  {
   "cell_type": "markdown",
   "metadata": {},
   "source": [
    "1. Given a String Source[0,i] and a String Target[0,j], we will compute all possible combinations of substrings [i,j] and their Minimum Edit Distance.\n",
    "2. We will maintain the previously computed substrings and use them to calculate the larger substrings\n",
    "3. We need to maintain a matrix D. \n",
    "4. Rows = characters of Source string + (1 extra blank), Col = characters of Target string + (extra blank)\n",
    "5. We begin with \"Initialization\"\n",
    "    a) D[0,0] = 0\n",
    "    b) Compute edit distances for all elements of 1st row and 1st col\n",
    "        D[i,0] = D[i-1,0] + del_cost(source[i])\n",
    "        D[0,j] = D[0,j-1] + ins_cost(source[j])\n",
    "6. Now compute D[i,j]\n",
    "        min{ D[i-1,j] + del_cost(source[i])\n",
    "             D[i,j-1] + ins_cost(target[j])\n",
    "             D[i-1,j-1] + {rep_cost, i != j\n",
    "                           0, i = j}\n",
    "                                   }\n",
    "    "
   ]
  },
  {
   "cell_type": "code",
   "execution_count": 7,
   "metadata": {},
   "outputs": [],
   "source": [
    "import numpy as np\n",
    "import pandas as pd"
   ]
  },
  {
   "cell_type": "code",
   "execution_count": 8,
   "metadata": {},
   "outputs": [],
   "source": [
    "# minimum amount of edits required given a source and a target string\n",
    "\n",
    "def minimum_edit_distance(source, target, del_cost=1, ins_cost=1,rep_cost=2):\n",
    "    \n",
    "    \"\"\"\n",
    "    1. Initialize: \n",
    "        D of size [i+1,j+1]\n",
    "        [0,0]=0\n",
    "        D[i,0]=D[i-1,0]+del_cost\n",
    "        D[0,j]=D[0,j-1]+ins_cost\n",
    "    \n",
    "    2. Loop through i,j:\n",
    "     min{ D[i-1,j] + del_cost(source[i])\n",
    "          D[i,j-1] + ins_cost(target[j])\n",
    "          D[i-1,j-1] + {rep_cost, i != j\n",
    "                    0, i = j}\n",
    "                            }\n",
    "    \n",
    "    3. mini edit distance will be the last cell [i,j] of matrix, i=j\n",
    "    \n",
    "    4. Make the matrix more readable, by converting to df and adding indexes\n",
    "    \n",
    "    Input: \n",
    "    Source string\n",
    "    Target string\n",
    "    Delete_cost, insert_cost, replace_cost\n",
    "    \n",
    "    Output:\n",
    "    Dataframe D, Minimum edit distance\n",
    "    \"\"\"\n",
    "    #create matrix\n",
    "    \n",
    "    i_len = len(source)\n",
    "    j_len = len(target)\n",
    "    \n",
    "    idx = ['#']+list(source)\n",
    "    jdx = ['#']+list(target)\n",
    "    \n",
    "    D = np.zeros((i_len+1,j_len+1),int)\n",
    "    \n",
    "    #initialize the matrix\n",
    "    D[0,0] = 0\n",
    "    \n",
    "    for i in range(1,i_len+1):\n",
    "        D[i,0] = D[i-1,0]+del_cost\n",
    "\n",
    "    for j in range(1,j_len+1):\n",
    "        D[0,j] = D[0,j-1]+ins_cost\n",
    "        \n",
    "    #fill each cell [i,j]\n",
    "    for i in range(1,i_len+1):\n",
    "        for j in range(1,j_len+1):\n",
    "            \n",
    "            #initialize rep_cost\n",
    "            rep=rep_cost\n",
    "            \n",
    "            if source[i-1]==target[j-1]:\n",
    "                rep=0\n",
    "            \n",
    "            D[i,j] = min(D[i-1,j]+del_cost, D[i,j-1]+ins_cost, D[i-1,j-1]+rep)\n",
    "                \n",
    "                \n",
    "    med = D[i_len,j_len]\n",
    "    \n",
    "    D = pd.DataFrame(D, index=idx, columns=jdx)\n",
    "    print(f'minimum edit distance is {med}')\n",
    "    return D, med"
   ]
  },
  {
   "cell_type": "code",
   "execution_count": 9,
   "metadata": {},
   "outputs": [
    {
     "name": "stdout",
     "output_type": "stream",
     "text": [
      "minimum edit distance is 1\n"
     ]
    },
    {
     "data": {
      "text/plain": [
       "(   #  w  a  n  t\n",
       " #  0  1  2  3  4\n",
       " a  1  2  1  2  3\n",
       " n  2  3  2  1  2\n",
       " t  3  4  3  2  1, 1)"
      ]
     },
     "execution_count": 9,
     "metadata": {},
     "output_type": "execute_result"
    }
   ],
   "source": [
    "minimum_edit_distance('ant','want')"
   ]
  },
  {
   "cell_type": "code",
   "execution_count": null,
   "metadata": {},
   "outputs": [],
   "source": []
  }
 ],
 "metadata": {
  "kernelspec": {
   "display_name": "Python 3",
   "language": "python",
   "name": "python3"
  },
  "language_info": {
   "codemirror_mode": {
    "name": "ipython",
    "version": 3
   },
   "file_extension": ".py",
   "mimetype": "text/x-python",
   "name": "python",
   "nbconvert_exporter": "python",
   "pygments_lexer": "ipython3",
   "version": "3.7.4"
  }
 },
 "nbformat": 4,
 "nbformat_minor": 2
}
