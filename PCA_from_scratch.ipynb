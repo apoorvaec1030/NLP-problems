{
  "nbformat": 4,
  "nbformat_minor": 0,
  "metadata": {
    "colab": {
      "provenance": [],
      "authorship_tag": "ABX9TyPMPw3aw31TVUmUDYL85Fe+",
      "include_colab_link": true
    },
    "kernelspec": {
      "name": "python3",
      "display_name": "Python 3"
    },
    "language_info": {
      "name": "python"
    }
  },
  "cells": [
    {
      "cell_type": "markdown",
      "metadata": {
        "id": "view-in-github",
        "colab_type": "text"
      },
      "source": [
        "<a href=\"https://colab.research.google.com/github/apoorvaec1030/NLP-problems/blob/main/PCA_from_scratch.ipynb\" target=\"_parent\"><img src=\"https://colab.research.google.com/assets/colab-badge.svg\" alt=\"Open In Colab\"/></a>"
      ]
    },
    {
      "cell_type": "code",
      "execution_count": 1,
      "metadata": {
        "colab": {
          "base_uri": "https://localhost:8080/",
          "height": 53
        },
        "id": "qnxXVfIV2jer",
        "outputId": "63c84c5c-3506-45aa-ac46-01c718798c5b"
      },
      "outputs": [
        {
          "output_type": "execute_result",
          "data": {
            "text/plain": [
              "'\\n1.normalize the dataset\\n2.create covariance matrix\\n3.eigenval & eigen vectors\\n4.get indexes of top eigenvals\\n5.based on those index just get those eigen vectors\\n6.dot of eigvec and the normalize data\\n'"
            ],
            "application/vnd.google.colaboratory.intrinsic+json": {
              "type": "string"
            }
          },
          "metadata": {},
          "execution_count": 1
        }
      ],
      "source": [
        "#PCA from scratch\n",
        "\"\"\"\n",
        "1.normalize the dataset\n",
        "2.create covariance matrix\n",
        "3.eigenval & eigen vectors\n",
        "4.get indexes of top eigenvals\n",
        "5.based on those index just get those eigen vectors\n",
        "6.dot of eigvec and the normalize data\n",
        "\"\"\"\n"
      ]
    },
    {
      "cell_type": "code",
      "source": [
        "import numpy as np\n",
        "def get_pca(X,n_components):\n",
        "\n",
        "    #de-mean the matrix, m*n\n",
        "    X_norm = X-X.mean(axis=0)\n",
        "\n",
        "    #create cov matrix\n",
        "    X_cov = np.cov(X_norm,rowvar=False)\n",
        "\n",
        "    #craete eigen vec and eigen val\n",
        "    eig_val,eig_vec = np.linalg.eigh(X_cov)\n",
        "\n",
        "    #get index of eig_val\n",
        "    idx_val_dec = np.argsort(eig_val)[::-1]\n",
        "\n",
        "    #sort eig_vec using idx\n",
        "    eig_vec_sort = eig_vec[:,idx_val_dec]\n",
        "\n",
        "    #filter top n_components, m*n_co\n",
        "    top_copm_vec = eig_vec_sort[:,0:n_components]\n",
        "\n",
        "    #dot with X norm\n",
        "    return np.dot(top_copm_vec.T,X_norm.T).T\n",
        "\n",
        "\n",
        "\n",
        ""
      ],
      "metadata": {
        "id": "NrmoUctY2nC3"
      },
      "execution_count": 4,
      "outputs": []
    },
    {
      "cell_type": "code",
      "source": [
        "X=np.random.rand(3,10)"
      ],
      "metadata": {
        "id": "-_3_Rm-p2paL"
      },
      "execution_count": 5,
      "outputs": []
    },
    {
      "cell_type": "code",
      "source": [
        "get_pca(X,n_components=2)"
      ],
      "metadata": {
        "colab": {
          "base_uri": "https://localhost:8080/"
        },
        "id": "2NpMLF6T2rX4",
        "outputId": "50f19d17-9a7e-4d65-9cab-535c46901f0b"
      },
      "execution_count": 6,
      "outputs": [
        {
          "output_type": "execute_result",
          "data": {
            "text/plain": [
              "array([[-0.49805654, -0.51637833],\n",
              "       [ 0.7780011 , -0.10645943],\n",
              "       [-0.27994457,  0.62283777]])"
            ]
          },
          "metadata": {},
          "execution_count": 6
        }
      ]
    },
    {
      "cell_type": "code",
      "source": [],
      "metadata": {
        "id": "WlYvuwl82uq9"
      },
      "execution_count": null,
      "outputs": []
    }
  ]
}