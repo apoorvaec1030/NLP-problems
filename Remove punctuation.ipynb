{
 "cells": [
  {
   "cell_type": "code",
   "execution_count": 76,
   "metadata": {},
   "outputs": [
    {
     "data": {
      "text/plain": [
       "'\\n1. read file. Use read(){reads entire file, for smaller corpus}, readline(){reads one line at a time and returns a string}, \\nreadlines(){reads entire corpus and returns one line at a time in a list format} based on the file size or application\\n2a. convert to lowercase \\n2b. remove punctuations\\n3. separate each word\\n4. create a set\\n5. also create word freq counter\\n'"
      ]
     },
     "execution_count": 76,
     "metadata": {},
     "output_type": "execute_result"
    }
   ],
   "source": [
    "\"\"\"\n",
    "1. read file. Use read(){reads entire file, for smaller corpus}, readline(){reads one line at a time and returns a string}, \n",
    "readlines(){reads entire corpus and returns one line at a time in a list format} based on the file size or application\n",
    "2a. convert to lowercase \n",
    "2b. remove punctuations\n",
    "3. separate each word\n",
    "4. create a set\n",
    "5. also create word freq counter\n",
    "\"\"\""
   ]
  },
  {
   "cell_type": "code",
   "execution_count": 77,
   "metadata": {},
   "outputs": [],
   "source": [
    "import re, string, timeit"
   ]
  },
  {
   "cell_type": "code",
   "execution_count": 78,
   "metadata": {},
   "outputs": [],
   "source": [
    "file = open('stringoftext.txt','r')\n",
    "corpus= file.read()"
   ]
  },
  {
   "cell_type": "markdown",
   "metadata": {},
   "source": [
    "### Preprocessing"
   ]
  },
  {
   "cell_type": "code",
   "execution_count": 79,
   "metadata": {},
   "outputs": [],
   "source": [
    "corpus = corpus.lower()"
   ]
  },
  {
   "cell_type": "markdown",
   "metadata": {},
   "source": [
    "#### Remove punctuation"
   ]
  },
  {
   "cell_type": "code",
   "execution_count": 80,
   "metadata": {},
   "outputs": [],
   "source": [
    "exclude = string.punctuation"
   ]
  },
  {
   "cell_type": "code",
   "execution_count": 89,
   "metadata": {},
   "outputs": [
    {
     "data": {
      "text/plain": [
       "'an american economy globalization is a very pressing issue in the american culture today within any economy globalization will cause many problems while at the same nirma time solving many surma others this is true because there are many factors involved with globalization one of the most important being job outsourcing while at first glance and from what the media reports job outsourcing is definitely not healthy for the economy however on upon closer inspection the reverse may be true job outsourcing karma surma nirma'"
      ]
     },
     "execution_count": 89,
     "metadata": {},
     "output_type": "execute_result"
    }
   ],
   "source": [
    "#brute force solution - list comprehension & join\n",
    "def joinList(corpus):\n",
    "    return ''.join(word for word in corpus if word not in exclude)\n",
    "joinList(corpus)"
   ]
  },
  {
   "cell_type": "code",
   "execution_count": 88,
   "metadata": {},
   "outputs": [
    {
     "data": {
      "text/plain": [
       "'an american economy globalization is a very pressing issue in the american culture today within any economy globalization will cause many problems while at the same nirma time solving many surma others this is true because there are many factors involved with globalization one of the most important being job outsourcing while at first glance and from what the media reports job outsourcing is definitely not healthy for the economy however on upon closer inspection the reverse may be true job outsourcing karma surma nirma'"
      ]
     },
     "execution_count": 88,
     "metadata": {},
     "output_type": "execute_result"
    }
   ],
   "source": [
    "#brute force solution -  replace \n",
    "def replace(corpus):\n",
    "    for i in exclude:\n",
    "        corpus=corpus.replace(i,\"\") \n",
    "    return corpus\n",
    "replace(corpus)"
   ]
  },
  {
   "cell_type": "code",
   "execution_count": 86,
   "metadata": {},
   "outputs": [
    {
     "data": {
      "text/plain": [
       "'an american economy globalization is a very pressing issue in the american culture today. within any economy, globalization will cause many problems while at the same nirma time solving many surma others. this is true because there are many factors involved with globalization, one of the most important being job outsourcing. while at first glance and from what the media reports, job outsourcing is definitely not healthy for the economy. however on upon closer inspection, the reverse may be true. job outsourcing. karma, surma, nirma.'"
      ]
     },
     "execution_count": 86,
     "metadata": {},
     "output_type": "execute_result"
    }
   ],
   "source": [
    "#translate\n",
    "def translate(corpus):\n",
    "    table = [str.maketrans(i,\" \") for i in exclude]\n",
    "    return corpus.translate(table)\n",
    "translate(corpus)"
   ]
  },
  {
   "cell_type": "code",
   "execution_count": 87,
   "metadata": {},
   "outputs": [
    {
     "data": {
      "text/plain": [
       "'an american economy globalization is a very pressing issue in the american culture today within any economy globalization will cause many problems while at the same nirma time solving many surma others this is true because there are many factors involved with globalization one of the most important being job outsourcing while at first glance and from what the media reports job outsourcing is definitely not healthy for the economy however on upon closer inspection the reverse may be true job outsourcing karma surma nirma '"
      ]
     },
     "execution_count": 87,
     "metadata": {},
     "output_type": "execute_result"
    }
   ],
   "source": [
    "#regex\n",
    "def regex(corpus):\n",
    "    return re.sub('\\W+',\" \",corpus)\n",
    "regex(corpus)"
   ]
  },
  {
   "cell_type": "code",
   "execution_count": 85,
   "metadata": {},
   "outputs": [
    {
     "name": "stdout",
     "output_type": "stream",
     "text": [
      "34.8 µs ± 1.28 µs per loop (mean ± std. dev. of 7 runs, 10000 loops each)\n",
      "7.58 µs ± 106 ns per loop (mean ± std. dev. of 7 runs, 100000 loops each)\n",
      "6.54 µs ± 92.7 ns per loop (mean ± std. dev. of 7 runs, 100000 loops each)\n",
      "25 µs ± 283 ns per loop (mean ± std. dev. of 7 runs, 10000 loops each)\n"
     ]
    }
   ],
   "source": [
    "%timeit joinList(corpus)\n",
    "%timeit replace(corpus)\n",
    "%timeit translate(corpus)\n",
    "%timeit regex(corpus)"
   ]
  },
  {
   "cell_type": "code",
   "execution_count": null,
   "metadata": {},
   "outputs": [],
   "source": []
  }
 ],
 "metadata": {
  "kernelspec": {
   "display_name": "Python 3",
   "language": "python",
   "name": "python3"
  },
  "language_info": {
   "codemirror_mode": {
    "name": "ipython",
    "version": 3
   },
   "file_extension": ".py",
   "mimetype": "text/x-python",
   "name": "python",
   "nbconvert_exporter": "python",
   "pygments_lexer": "ipython3",
   "version": "3.7.4"
  }
 },
 "nbformat": 4,
 "nbformat_minor": 2
}
